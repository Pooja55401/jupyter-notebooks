{
 "cells": [
  {
   "cell_type": "markdown",
   "metadata": {},
   "source": [
    "# Census_Analysis\n",
    "\n",
    "This is a python code to analyze, '2015 US Census Demographic Data', downloaded from \"https://www.kaggle.com/code/zimeiyang/2015-us-census-demographic-data/data\". We are using Pandas dataframe to work with data which is in the form of .CSV file. \n",
    "\n",
    "1. Number of states in USA\n",
    "2. number oof counties in each state\n",
    "3. Total population of USA\n",
    "4. List 5 counties with highest population, with bar chart.\n",
    "6. List 5 states with highest population, with bar chart.\n",
    "7. List 5 counties and states with highest work from home people.\n",
    "8. List 5 counties and state with highest unemployment\n",
    "9. Which 5 states have highest gender ratio (man/women)?\n",
    "10. Which 5 states have highest and lowest white population?\n",
    "11. Is there any correlation between income and race (White/ Asian/ ... )? \n",
    "12. Is there any correlation between income and Work at home?\n",
    "13. Is there any correlation between income and Private Work?\n",
    "14. In counties with high Asian population, do you find the average wage to be higher than counties with high Black or White or Hispanic population? \n",
    "15. In counties with high population, do you find lower income than counties with low population? \n",
    "\n",
    ". "
   ]
  },
  {
   "cell_type": "code",
   "execution_count": 2,
   "metadata": {
    "collapsed": true
   },
   "outputs": [],
   "source": [
    "import pandas as pd\n",
    "\n",
    "census_data=pd.read_csv(\"acs2015_census_tract_data.csv\")"
   ]
  },
  {
   "cell_type": "code",
   "execution_count": 3,
   "metadata": {},
   "outputs": [
    {
     "data": {
      "text/html": [
       "<div>\n",
       "<style>\n",
       "    .dataframe thead tr:only-child th {\n",
       "        text-align: right;\n",
       "    }\n",
       "\n",
       "    .dataframe thead th {\n",
       "        text-align: left;\n",
       "    }\n",
       "\n",
       "    .dataframe tbody tr th {\n",
       "        vertical-align: top;\n",
       "    }\n",
       "</style>\n",
       "<table border=\"1\" class=\"dataframe\">\n",
       "  <thead>\n",
       "    <tr style=\"text-align: right;\">\n",
       "      <th></th>\n",
       "      <th>CensusTract</th>\n",
       "      <th>State</th>\n",
       "      <th>County</th>\n",
       "      <th>TotalPop</th>\n",
       "      <th>Men</th>\n",
       "      <th>Women</th>\n",
       "      <th>Hispanic</th>\n",
       "      <th>White</th>\n",
       "      <th>Black</th>\n",
       "      <th>Native</th>\n",
       "      <th>...</th>\n",
       "      <th>Walk</th>\n",
       "      <th>OtherTransp</th>\n",
       "      <th>WorkAtHome</th>\n",
       "      <th>MeanCommute</th>\n",
       "      <th>Employed</th>\n",
       "      <th>PrivateWork</th>\n",
       "      <th>PublicWork</th>\n",
       "      <th>SelfEmployed</th>\n",
       "      <th>FamilyWork</th>\n",
       "      <th>Unemployment</th>\n",
       "    </tr>\n",
       "  </thead>\n",
       "  <tbody>\n",
       "    <tr>\n",
       "      <th>0</th>\n",
       "      <td>1001020100</td>\n",
       "      <td>Alabama</td>\n",
       "      <td>Autauga</td>\n",
       "      <td>1948</td>\n",
       "      <td>940</td>\n",
       "      <td>1008</td>\n",
       "      <td>0.9</td>\n",
       "      <td>87.4</td>\n",
       "      <td>7.7</td>\n",
       "      <td>0.3</td>\n",
       "      <td>...</td>\n",
       "      <td>0.5</td>\n",
       "      <td>2.3</td>\n",
       "      <td>2.1</td>\n",
       "      <td>25.0</td>\n",
       "      <td>943</td>\n",
       "      <td>77.1</td>\n",
       "      <td>18.3</td>\n",
       "      <td>4.6</td>\n",
       "      <td>0.0</td>\n",
       "      <td>5.4</td>\n",
       "    </tr>\n",
       "    <tr>\n",
       "      <th>1</th>\n",
       "      <td>1001020200</td>\n",
       "      <td>Alabama</td>\n",
       "      <td>Autauga</td>\n",
       "      <td>2156</td>\n",
       "      <td>1059</td>\n",
       "      <td>1097</td>\n",
       "      <td>0.8</td>\n",
       "      <td>40.4</td>\n",
       "      <td>53.3</td>\n",
       "      <td>0.0</td>\n",
       "      <td>...</td>\n",
       "      <td>0.0</td>\n",
       "      <td>0.7</td>\n",
       "      <td>0.0</td>\n",
       "      <td>23.4</td>\n",
       "      <td>753</td>\n",
       "      <td>77.0</td>\n",
       "      <td>16.9</td>\n",
       "      <td>6.1</td>\n",
       "      <td>0.0</td>\n",
       "      <td>13.3</td>\n",
       "    </tr>\n",
       "    <tr>\n",
       "      <th>2</th>\n",
       "      <td>1001020300</td>\n",
       "      <td>Alabama</td>\n",
       "      <td>Autauga</td>\n",
       "      <td>2968</td>\n",
       "      <td>1364</td>\n",
       "      <td>1604</td>\n",
       "      <td>0.0</td>\n",
       "      <td>74.5</td>\n",
       "      <td>18.6</td>\n",
       "      <td>0.5</td>\n",
       "      <td>...</td>\n",
       "      <td>0.0</td>\n",
       "      <td>0.0</td>\n",
       "      <td>2.5</td>\n",
       "      <td>19.6</td>\n",
       "      <td>1373</td>\n",
       "      <td>64.1</td>\n",
       "      <td>23.6</td>\n",
       "      <td>12.3</td>\n",
       "      <td>0.0</td>\n",
       "      <td>6.2</td>\n",
       "    </tr>\n",
       "    <tr>\n",
       "      <th>3</th>\n",
       "      <td>1001020400</td>\n",
       "      <td>Alabama</td>\n",
       "      <td>Autauga</td>\n",
       "      <td>4423</td>\n",
       "      <td>2172</td>\n",
       "      <td>2251</td>\n",
       "      <td>10.5</td>\n",
       "      <td>82.8</td>\n",
       "      <td>3.7</td>\n",
       "      <td>1.6</td>\n",
       "      <td>...</td>\n",
       "      <td>0.0</td>\n",
       "      <td>2.6</td>\n",
       "      <td>1.6</td>\n",
       "      <td>25.3</td>\n",
       "      <td>1782</td>\n",
       "      <td>75.7</td>\n",
       "      <td>21.2</td>\n",
       "      <td>3.1</td>\n",
       "      <td>0.0</td>\n",
       "      <td>10.8</td>\n",
       "    </tr>\n",
       "    <tr>\n",
       "      <th>4</th>\n",
       "      <td>1001020500</td>\n",
       "      <td>Alabama</td>\n",
       "      <td>Autauga</td>\n",
       "      <td>10763</td>\n",
       "      <td>4922</td>\n",
       "      <td>5841</td>\n",
       "      <td>0.7</td>\n",
       "      <td>68.5</td>\n",
       "      <td>24.8</td>\n",
       "      <td>0.0</td>\n",
       "      <td>...</td>\n",
       "      <td>0.0</td>\n",
       "      <td>0.6</td>\n",
       "      <td>0.9</td>\n",
       "      <td>24.8</td>\n",
       "      <td>5037</td>\n",
       "      <td>67.1</td>\n",
       "      <td>27.6</td>\n",
       "      <td>5.3</td>\n",
       "      <td>0.0</td>\n",
       "      <td>4.2</td>\n",
       "    </tr>\n",
       "  </tbody>\n",
       "</table>\n",
       "<p>5 rows × 37 columns</p>\n",
       "</div>"
      ],
      "text/plain": [
       "   CensusTract    State   County  TotalPop   Men  Women  Hispanic  White  \\\n",
       "0   1001020100  Alabama  Autauga      1948   940   1008       0.9   87.4   \n",
       "1   1001020200  Alabama  Autauga      2156  1059   1097       0.8   40.4   \n",
       "2   1001020300  Alabama  Autauga      2968  1364   1604       0.0   74.5   \n",
       "3   1001020400  Alabama  Autauga      4423  2172   2251      10.5   82.8   \n",
       "4   1001020500  Alabama  Autauga     10763  4922   5841       0.7   68.5   \n",
       "\n",
       "   Black  Native      ...       Walk  OtherTransp  WorkAtHome  MeanCommute  \\\n",
       "0    7.7     0.3      ...        0.5          2.3         2.1         25.0   \n",
       "1   53.3     0.0      ...        0.0          0.7         0.0         23.4   \n",
       "2   18.6     0.5      ...        0.0          0.0         2.5         19.6   \n",
       "3    3.7     1.6      ...        0.0          2.6         1.6         25.3   \n",
       "4   24.8     0.0      ...        0.0          0.6         0.9         24.8   \n",
       "\n",
       "   Employed  PrivateWork  PublicWork  SelfEmployed  FamilyWork  Unemployment  \n",
       "0       943         77.1        18.3           4.6         0.0           5.4  \n",
       "1       753         77.0        16.9           6.1         0.0          13.3  \n",
       "2      1373         64.1        23.6          12.3         0.0           6.2  \n",
       "3      1782         75.7        21.2           3.1         0.0          10.8  \n",
       "4      5037         67.1        27.6           5.3         0.0           4.2  \n",
       "\n",
       "[5 rows x 37 columns]"
      ]
     },
     "execution_count": 3,
     "metadata": {},
     "output_type": "execute_result"
    }
   ],
   "source": [
    "census_data.head(5)"
   ]
  },
  {
   "cell_type": "code",
   "execution_count": 4,
   "metadata": {},
   "outputs": [
    {
     "name": "stdout",
     "output_type": "stream",
     "text": [
      "Number of states in USA:  52\n"
     ]
    }
   ],
   "source": [
    "#Number of states in USA\n",
    "\n",
    "states=census_data.State.unique()\n",
    "print(\"Number of states in USA: \",len(states))"
   ]
  },
  {
   "cell_type": "code",
   "execution_count": 6,
   "metadata": {},
   "outputs": [],
   "source": [
    "#number oof counties in each state\n",
    "\n",
    "state_county= census_data[['State','County']].drop_duplicates()\n",
    "num_counties=state_county.groupby(['State']).County.count()\n",
    "print(\"number oof counties in each state: \",num_counties)"
   ]
  },
  {
   "cell_type": "code",
   "execution_count": 7,
   "metadata": {},
   "outputs": [
    {
     "data": {
      "text/plain": [
       "320098094"
      ]
     },
     "execution_count": 7,
     "metadata": {},
     "output_type": "execute_result"
    }
   ],
   "source": [
    "census_data.TotalPop.sum() # Total population of USA"
   ]
  },
  {
   "cell_type": "code",
   "execution_count": 28,
   "metadata": {},
   "outputs": [
    {
     "data": {
      "text/html": [
       "<div>\n",
       "<style>\n",
       "    .dataframe thead tr:only-child th {\n",
       "        text-align: right;\n",
       "    }\n",
       "\n",
       "    .dataframe thead th {\n",
       "        text-align: left;\n",
       "    }\n",
       "\n",
       "    .dataframe tbody tr th {\n",
       "        vertical-align: top;\n",
       "    }\n",
       "</style>\n",
       "<table border=\"1\" class=\"dataframe\">\n",
       "  <thead>\n",
       "    <tr style=\"text-align: right;\">\n",
       "      <th></th>\n",
       "      <th>County</th>\n",
       "      <th>TotalPop</th>\n",
       "    </tr>\n",
       "  </thead>\n",
       "  <tbody>\n",
       "    <tr>\n",
       "      <th>0</th>\n",
       "      <td>Los Angeles</td>\n",
       "      <td>10038388</td>\n",
       "    </tr>\n",
       "    <tr>\n",
       "      <th>1</th>\n",
       "      <td>Cook</td>\n",
       "      <td>5258620</td>\n",
       "    </tr>\n",
       "    <tr>\n",
       "      <th>2</th>\n",
       "      <td>Orange</td>\n",
       "      <td>5025603</td>\n",
       "    </tr>\n",
       "    <tr>\n",
       "      <th>3</th>\n",
       "      <td>Harris</td>\n",
       "      <td>4389138</td>\n",
       "    </tr>\n",
       "    <tr>\n",
       "      <th>4</th>\n",
       "      <td>Maricopa</td>\n",
       "      <td>4018143</td>\n",
       "    </tr>\n",
       "  </tbody>\n",
       "</table>\n",
       "</div>"
      ],
      "text/plain": [
       "        County  TotalPop\n",
       "0  Los Angeles  10038388\n",
       "1         Cook   5258620\n",
       "2       Orange   5025603\n",
       "3       Harris   4389138\n",
       "4     Maricopa   4018143"
      ]
     },
     "execution_count": 28,
     "metadata": {},
     "output_type": "execute_result"
    }
   ],
   "source": [
    "#List 5 counties with highest population\n",
    "\n",
    "counties_highest_pop=census_data[['County','TotalPop']]\n",
    "chp=counties_highest_pop.groupby(['County']).TotalPop.sum()\n",
    "chigh_pop=chp.sort_values(ascending=False).head(5).reset_index()\n",
    "chigh_pop"
   ]
  },
  {
   "cell_type": "code",
   "execution_count": 31,
   "metadata": {},
   "outputs": [
    {
     "data": {
      "image/png": "[encoded data removed]",
      "text/plain": [
       "<matplotlib.figure.Figure at 0x26351f18438>"
      ]
     },
     "metadata": {},
     "output_type": "display_data"
    }
   ],
   "source": [
    "import matplotlib.pyplot as plt\n",
    "\n",
    "\n",
    "counties=list(chigh_pop.iloc[:, 0])\n",
    "popul= list(chigh_pop.iloc[:, 1])\n",
    "  \n",
    "# Plot the data using bar() method\n",
    "plt.bar(counties, popul, color='g')\n",
    "plt.title(\"Top 5 counties with highest population\")\n",
    "plt.xlabel(\"counties\")\n",
    "plt.ylabel(\"population\")\n",
    "plt.show()"
   ]
  },
  {
   "cell_type": "code",
   "execution_count": 20,
   "metadata": {},
   "outputs": [
    {
     "data": {
      "text/plain": [
       "State\n",
       "California    38421464\n",
       "Texas         26538614\n",
       "New York      19673174\n",
       "Florida       19645772\n",
       "Illinois      12873761\n",
       "Name: TotalPop, dtype: int64"
      ]
     },
     "execution_count": 20,
     "metadata": {},
     "output_type": "execute_result"
    }
   ],
   "source": [
    "#List 5 states with highest population\n",
    "\n",
    "states_high_pop=(census_data.groupby(['State']).TotalPop.sum()).sort_values(ascending=False)\n",
    "states_high_pop.head(5)"
   ]
  },
  {
   "cell_type": "code",
   "execution_count": 35,
   "metadata": {},
   "outputs": [
    {
     "data": {
      "image/png": "[encoded data removed]",
      "text/plain": [
       "<matplotlib.figure.Figure at 0x2634b7b7668>"
      ]
     },
     "metadata": {},
     "output_type": "display_data"
    }
   ],
   "source": [
    "shigh_pop=(states_high_pop.head(5)).reset_index()\n",
    "\n",
    "states=list(shigh_pop.iloc[:, 0])\n",
    "popul= list(shigh_pop.iloc[:, 1])\n",
    "  \n",
    "# Plot the data using bar() method\n",
    "plt.bar(states, popul, color='b')\n",
    "plt.title(\"Top 5 counties with highest population\")\n",
    "plt.xlabel(\"counties\")\n",
    "plt.ylabel(\"population\")\n",
    "plt.show()"
   ]
  },
  {
   "cell_type": "code",
   "execution_count": 115,
   "metadata": {},
   "outputs": [
    {
     "data": {
      "text/plain": [
       "State       County     \n",
       "California  Los Angeles    12024.3\n",
       "Illinois    Cook            5462.9\n",
       "Arizona     Maricopa        5444.6\n",
       "California  San Diego       4141.1\n",
       "            Orange          3129.5\n",
       "Name: WorkAtHome, dtype: float64"
      ]
     },
     "execution_count": 115,
     "metadata": {},
     "output_type": "execute_result"
    }
   ],
   "source": [
    "#List 5 counties and states with highest work from home people\n",
    "\n",
    "((census_data.groupby(['State','County']).WorkAtHome.sum()).sort_values(ascending=False)).head(5)"
   ]
  },
  {
   "cell_type": "code",
   "execution_count": 117,
   "metadata": {},
   "outputs": [
    {
     "data": {
      "text/plain": [
       "State       County     \n",
       "California  Los Angeles    23931.1\n",
       "Illinois    Cook           16559.7\n",
       "Michigan    Wayne          10682.7\n",
       "New York    Kings           7469.0\n",
       "Arizona     Maricopa        7426.4\n",
       "Name: Unemployment, dtype: float64"
      ]
     },
     "execution_count": 117,
     "metadata": {},
     "output_type": "execute_result"
    }
   ],
   "source": [
    "#List 5 counties and state with highest unemployment\n",
    "\n",
    "((census_data.groupby(['State','County']).Unemployment.sum()).sort_values(ascending=False)).head(5)"
   ]
  },
  {
   "cell_type": "code",
   "execution_count": 128,
   "metadata": {},
   "outputs": [
    {
     "data": {
      "text/plain": [
       "State\n",
       "Alaska          1.100067\n",
       "North Dakota    1.040393\n",
       "Wyoming         1.040276\n",
       "Hawaii          1.019303\n",
       "Nevada          1.012103\n",
       "dtype: float64"
      ]
     },
     "execution_count": 128,
     "metadata": {},
     "output_type": "execute_result"
    }
   ],
   "source": [
    "#Which 5 states have highest gender ratio (man/women)?\n",
    "\n",
    "men_count=census_data.groupby(['State']).Men.sum()\n",
    "women_count=census_data.groupby(['State']).Women.sum()\n",
    "(men_count/women_count).sort_values(ascending=False).head(5)"
   ]
  },
  {
   "cell_type": "code",
   "execution_count": 145,
   "metadata": {},
   "outputs": [
    {
     "name": "stdout",
     "output_type": "stream",
     "text": [
      "\n",
      "----------Top 5 states with hightest white population----------\n",
      "\n"
     ]
    },
    {
     "data": {
      "text/plain": [
       "State\n",
       "California      322208.9\n",
       "New York        274275.3\n",
       "Pennsylvania    247783.1\n",
       "Florida         246497.4\n",
       "Texas           233583.7\n",
       "Name: White, dtype: float64"
      ]
     },
     "execution_count": 145,
     "metadata": {},
     "output_type": "execute_result"
    }
   ],
   "source": [
    "##Which 5 states have highest and lowest white population?\n",
    "\n",
    "white_pop=(census_data.groupby(['State']).White.sum()).sort_values(ascending=False)\n",
    "print(\"\\n----------Top 5 states with hightest white population----------\\n\")\n",
    "white_pop.head(5)"
   ]
  },
  {
   "cell_type": "code",
   "execution_count": 147,
   "metadata": {},
   "outputs": [
    {
     "name": "stdout",
     "output_type": "stream",
     "text": [
      "\n",
      "----------Top 5 states with lowest white population----------\n",
      "\n"
     ]
    },
    {
     "data": {
      "text/plain": [
       "State\n",
       "Puerto Rico               686.2\n",
       "District of Columbia     5925.6\n",
       "Hawaii                   7910.2\n",
       "Alaska                  10172.0\n",
       "Wyoming                 11037.8\n",
       "Name: White, dtype: float64"
      ]
     },
     "execution_count": 147,
     "metadata": {},
     "output_type": "execute_result"
    }
   ],
   "source": [
    "\n",
    "print(\"\\n----------Top 5 states with lowest white population----------\\n\")\n",
    "white_pop=(census_data.groupby(['State']).White.sum()).sort_values()\n",
    "white_pop.head(5)"
   ]
  },
  {
   "cell_type": "code",
   "execution_count": 165,
   "metadata": {},
   "outputs": [],
   "source": [
    "\n",
    "#. Is there any correlation between income and race (White/ Asian/ ... )? Y: An avarage Asia earns more than than others\n"
   ]
  },
  {
   "cell_type": "code",
   "execution_count": 248,
   "metadata": {},
   "outputs": [],
   "source": [
    "hisp=(census_data.TotalPop*census_data.Hispanic)/100\n",
    "total_hisp=hisp.sum()"
   ]
  },
  {
   "cell_type": "code",
   "execution_count": 253,
   "metadata": {},
   "outputs": [],
   "source": [
    "per_hisp_income=census_data.Income/hisp\n"
   ]
  },
  {
   "cell_type": "code",
   "execution_count": 250,
   "metadata": {},
   "outputs": [
    {
     "data": {
      "text/plain": [
       "22290.137478555018"
      ]
     },
     "execution_count": 250,
     "metadata": {},
     "output_type": "execute_result"
    }
   ],
   "source": [
    "hisp_total_income=hisp*census_data.IncomePerCap\n",
    "hisp_total_income.sum()/ total_hisp"
   ]
  },
  {
   "cell_type": "code",
   "execution_count": 254,
   "metadata": {},
   "outputs": [
    {
     "data": {
      "text/plain": [
       "31435.093194174"
      ]
     },
     "execution_count": 254,
     "metadata": {},
     "output_type": "execute_result"
    }
   ],
   "source": [
    "whit=(census_data.TotalPop*census_data.White)/100\n",
    "total_whit=whit.sum()\n",
    "per_whit_income=census_data.Income/whit\n",
    "whit_total_income=whit*census_data.IncomePerCap\n",
    "\n",
    "whit_total_income.sum()/ total_whit"
   ]
  },
  {
   "cell_type": "code",
   "execution_count": 255,
   "metadata": {},
   "outputs": [
    {
     "data": {
      "text/plain": [
       "22490.830632912017"
      ]
     },
     "execution_count": 255,
     "metadata": {},
     "output_type": "execute_result"
    }
   ],
   "source": [
    "blac=(census_data.TotalPop*census_data.Black)/100\n",
    "total_blac=blac.sum()\n",
    "per_blac_income=census_data.Income/blac\n",
    "blac_total_income=blac*census_data.IncomePerCap\n",
    "\n",
    "blac_total_income.sum()/ total_blac"
   ]
  },
  {
   "cell_type": "code",
   "execution_count": 256,
   "metadata": {},
   "outputs": [
    {
     "data": {
      "text/plain": [
       "21938.33985415625"
      ]
     },
     "execution_count": 256,
     "metadata": {},
     "output_type": "execute_result"
    }
   ],
   "source": [
    "nati=(census_data.TotalPop*census_data.Native)/100\n",
    "total_nati=nati.sum()\n",
    "per_nati_income=census_data.Income/nati\n",
    "nati_total_income=nati*census_data.IncomePerCap\n",
    "\n",
    "nati_total_income.sum()/ total_nati"
   ]
  },
  {
   "cell_type": "code",
   "execution_count": 257,
   "metadata": {},
   "outputs": [
    {
     "data": {
      "text/plain": [
       "34419.280825464055"
      ]
     },
     "execution_count": 257,
     "metadata": {},
     "output_type": "execute_result"
    }
   ],
   "source": [
    "asia=(census_data.TotalPop*census_data.Asian)/100\n",
    "total_asia=asia.sum()\n",
    "per_asia_income=census_data.Income/asia\n",
    "asia_total_income=asia*census_data.IncomePerCap\n",
    "\n",
    "asia_total_income.sum()/ total_asia"
   ]
  },
  {
   "cell_type": "code",
   "execution_count": 261,
   "metadata": {},
   "outputs": [
    {
     "data": {
      "text/plain": [
       "33851.49039464008"
      ]
     },
     "execution_count": 261,
     "metadata": {},
     "output_type": "execute_result"
    }
   ],
   "source": [
    "#Is there any correlation between income and Work at home? Ans- Yes, the income of WorkAtHome is only 75% of the mean Income\n",
    "\n",
    "wah=(census_data.TotalPop*census_data.WorkAtHome)/100\n",
    "wah_total_income=wah*census_data.IncomePerCap\n",
    "wah_total_income.sum()/wah.sum()\n"
   ]
  },
  {
   "cell_type": "code",
   "execution_count": 276,
   "metadata": {},
   "outputs": [
    {
     "data": {
      "text/plain": [
       "45125.83835520357"
      ]
     },
     "execution_count": 276,
     "metadata": {},
     "output_type": "execute_result"
    }
   ],
   "source": [
    "x=(wah*census_data.Income)/census_data.TotalPop\n",
    "x.mean()"
   ]
  },
  {
   "cell_type": "code",
   "execution_count": 281,
   "metadata": {},
   "outputs": [
    {
     "data": {
      "text/plain": [
       "30094.249104212035"
      ]
     },
     "execution_count": 281,
     "metadata": {},
     "output_type": "execute_result"
    }
   ],
   "source": [
    "#Is there any correlation between income and Private Work? Ans- Yes, the income of WorkAtHome is around 139.4% of the mean Income\n",
    "\n",
    "pri_work=(census_data.Employed*census_data.PrivateWork)/100\n",
    "pri_total_income=pri_work*census_data.IncomePerCap\n",
    "pri_total_income.sum()/pri_work.sum()"
   ]
  },
  {
   "cell_type": "code",
   "execution_count": 284,
   "metadata": {},
   "outputs": [
    {
     "data": {
      "text/plain": [
       "21584.352678666455"
      ]
     },
     "execution_count": 284,
     "metadata": {},
     "output_type": "execute_result"
    }
   ],
   "source": [
    "x=(pri_work*census_data.Income)/census_data.TotalPop\n",
    "x.mean()"
   ]
  },
  {
   "cell_type": "code",
   "execution_count": 293,
   "metadata": {},
   "outputs": [],
   "source": []
  },
  {
   "cell_type": "code",
   "execution_count": 296,
   "metadata": {
    "collapsed": true
   },
   "outputs": [],
   "source": [
    "#In counties with high population, do you find lower income than counties with low population?\n",
    "#Note: If you want to select county with high X, you can select counties which have more than two times the average value of X in county.\n",
    "    \n",
    "census_data['TotalIncome']=census_data['IncomePerCap']*census_data['TotalPop']\n",
    "cd=census_data.groupby(['County']).agg({'TotalIncome':'sum','TotalPop':'sum'}).reset_index()"
   ]
  },
  {
   "cell_type": "code",
   "execution_count": 298,
   "metadata": {},
   "outputs": [],
   "source": []
  },
  {
   "cell_type": "code",
   "execution_count": 309,
   "metadata": {},
   "outputs": [],
   "source": [
    "avg = cd['TotalPop'].mean()\n",
    "cd['HighPop']=cd['TotalPop']>avg"
   ]
  },
  {
   "cell_type": "code",
   "execution_count": 313,
   "metadata": {},
   "outputs": [],
   "source": [
    "cd1 = cd.groupby(['HighPop']).agg({'TotalIncome':'sum','TotalPop':'sum'}).reset_index()"
   ]
  },
  {
   "cell_type": "code",
   "execution_count": 314,
   "metadata": {},
   "outputs": [
    {
     "data": {
      "text/html": [
       "<div>\n",
       "<style>\n",
       "    .dataframe thead tr:only-child th {\n",
       "        text-align: right;\n",
       "    }\n",
       "\n",
       "    .dataframe thead th {\n",
       "        text-align: left;\n",
       "    }\n",
       "\n",
       "    .dataframe tbody tr th {\n",
       "        vertical-align: top;\n",
       "    }\n",
       "</style>\n",
       "<table border=\"1\" class=\"dataframe\">\n",
       "  <thead>\n",
       "    <tr style=\"text-align: right;\">\n",
       "      <th></th>\n",
       "      <th>HighPop</th>\n",
       "      <th>TotalIncome</th>\n",
       "      <th>TotalPop</th>\n",
       "      <th>AverageIncome</th>\n",
       "    </tr>\n",
       "  </thead>\n",
       "  <tbody>\n",
       "    <tr>\n",
       "      <th>0</th>\n",
       "      <td>False</td>\n",
       "      <td>1.463498e+12</td>\n",
       "      <td>61325375</td>\n",
       "      <td>23864.483179</td>\n",
       "    </tr>\n",
       "    <tr>\n",
       "      <th>1</th>\n",
       "      <td>True</td>\n",
       "      <td>7.734036e+12</td>\n",
       "      <td>258772719</td>\n",
       "      <td>29887.369911</td>\n",
       "    </tr>\n",
       "  </tbody>\n",
       "</table>\n",
       "</div>"
      ],
      "text/plain": [
       "   HighPop   TotalIncome   TotalPop  AverageIncome\n",
       "0    False  1.463498e+12   61325375   23864.483179\n",
       "1     True  7.734036e+12  258772719   29887.369911"
      ]
     },
     "execution_count": 314,
     "metadata": {},
     "output_type": "execute_result"
    }
   ],
   "source": [
    "cd1['AverageIncome'] = cd1['TotalIncome']/cd1['TotalPop']\n",
    "cd1"
   ]
  }
 ],
 "metadata": {
  "kernelspec": {
   "display_name": "Python 3",
   "language": "python",
   "name": "python3"
  },
  "language_info": {
   "codemirror_mode": {
    "name": "ipython",
    "version": 3
   },
   "file_extension": ".py",
   "mimetype": "text/x-python",
   "name": "python",
   "nbconvert_exporter": "python",
   "pygments_lexer": "ipython3",
   "version": "3.6.3"
  }
 },
 "nbformat": 4,
 "nbformat_minor": 2
}
